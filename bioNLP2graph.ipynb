{
  "cells": [
    {
      "cell_type": "markdown",
      "metadata": {
        "colab_type": "text",
        "id": "view-in-github"
      },
      "source": [
        "<a href=\"https://colab.research.google.com/github/tomasonjo/blogs/blob/master/bionlp/bioNLP2graph.ipynb\" target=\"_parent\"><img src=\"https://colab.research.google.com/assets/colab-badge.svg\" alt=\"Open In Colab\"/></a>"
      ]
    },
    {
      "cell_type": "code",
      "execution_count": null,
      "metadata": {
        "colab": {
          "base_uri": "https://localhost:8080/"
        },
        "id": "-uuGuvfarzbf",
        "outputId": "4a9f127d-77df-4d85-c113-183d38d4c4d3"
      },
      "outputs": [],
      "source": [
        "#!sudo apt install tesseract-ocr\n",
        "#!sudo apt-get install poppler-utils\n",
        "#! pip install pytesseract pdf2image zero-shot-re neo4j"
      ]
    },
    {
      "cell_type": "markdown",
      "metadata": {
        "id": "ukjRkys6nWdQ"
      },
      "source": [
        "# Construct a biomedical knowledge graph with NLP\n",
        "## Learn how to combine OCR, named entity linking, relation extraction and external enrichment databases to construct a biomedical knowledge graph\n",
        "I have already demonstrated how to create a knowledge graph out of a Wikipedia page. However, since the post got a lot of attention, I've decided to explore other domains where using NLP techniques to construct a knowledge graph makes sense. In my opinion, the biomedical field is a prime example where representing the data as a graph makes sense as you are often analyzing interactions and relations between genes, diseases, drugs, proteins, and more.\n",
        "\n",
        "You could have a team of domain experts map all of those connections between drugs, diseases, and other biomedical concepts for you. But, unfortunately, not many of us can afford to hire a team of medical doctors to do the work for us. In that case, we can resort to using NLP techniques to extract those relationships automatically. The good part is that we can use an NLP pipeline to read all of the research papers out there, and the bad part is that not all obtained results will be perfect. However, given that I don't have a team of scientists ready at my side to extract relations manually, I will resort to using NLP techniques to construct a biomedical knowledge graph of my own.\n",
        "I will be using a single research paper in this blog post to walk you through all the steps required to construct a biomedical knowledge graph.\n",
        "\n",
        "I will be using the Tissue Engineering of Skin Regeneration and Hair Growth paper written by Mohammadreza Ahmadi. The PDF version of the article is available under the CC0 1.0 license. We will go through the following steps to construct a knowledge graph:\n",
        "* Reading a PDF document with OCR\n",
        "* Text preprocessing\n",
        "* Biomedical concept recognition and linking\n",
        "* Relation extraction\n",
        "* External database enrichment\n",
        "\n",
        "We will be using Neo4j, a graph database that features the labeled property graph model, to store our graph. Each article can have one or more authors. We will split the article content into sentences and use NLP to extract both medical entities and their relationships. It might be a bit counter-intuitive that we will store the relations between entities as intermediate nodes instead of relationships. The critical factor behind this decision is that we want to have an audit trail of the source text from which the relation was extracted. With the labeled property graph model, you can't have a relationship pointing to another relationship. For this reason, we refactor the connection between medical concepts into an intermediate node. This will also allow a domain expert to evaluate if a relation was correctly extracted or not.\n",
        "Along the way, I will also demonstrate applications of using the constructed graph to search and analyze stored information.\n",
        "Let's dive right into it!\n",
        "# Reading a PDF document with OCR\n",
        "As mentioned, the PDF version of the research paper is accessible to the public under the CC0 1.0 license, which means we can easily download it with Python. We will be using the pytesseract library to extract text from the PDF. As far as I know, the pytesseract library is one of the more popular libraries for OCR."
      ]
    },
    {
      "cell_type": "code",
      "execution_count": 3,
      "metadata": {
        "id": "KjlUTGhNsYa_"
      },
      "outputs": [],
      "source": [
        "import requests\n",
        "import pdf2image\n",
        "import pytesseract\n",
        "\n",
        "#pdf = requests.get('https://arxiv.org/pdf/2110.03526.pdf')\n",
        "pdf = requests.get('https://www.nature.com/articles/s41586-022-04437-2.pdf')\n",
        "doc = pdf2image.convert_from_bytes(pdf.content)\n",
        "\n",
        "# Get the article text\n",
        "article = []\n",
        "for page_number, page_data in enumerate(doc):\n",
        "    txt = pytesseract.image_to_string(page_data).encode(\"utf-8\")\n",
        "    # Sixth page are only references\n",
        "    if page_number < 6:\n",
        "      article.append(txt.decode(\"utf-8\"))\n",
        "article_txt = \" \".join(article)\n"
      ]
    },
    {
      "cell_type": "code",
      "execution_count": 22,
      "metadata": {},
      "outputs": [
        {
          "data": {
            "text/plain": [
              "'Article\\n\\nEffective drug combinations in breast, colon\\nand pancreatic cancer cells\\n\\nhttps://doi.org/10.1038/s41586-022-04437-2\\n\\nReceived: 2 July 2021\\n\\nAccepted: 18 January 2022\\n\\nPublished online: 23 February 2022\\n\\nOpen access\\n\\n® Check for updates\\n\\nPatricia Jaaks\"*, Elizabeth A. Coker\", Daniel J. Vis?’, Olivia Edwards’, Emma F. Carpenter’,\\nSimonetta M. Leto’, Lisa Dwane\\'’, Francesco Sassi*, Howard Lightfoot’, Syd Barthorpe’,\\nDieudonne van der Meer’, Wanjuan Yang’, Alexandra Beck’, Tatiana Mironenko’, Caitlin Hall’,\\nJames Hall’, Iman Mali’, Laura Richardson’, Charlotte Tolley’, James Morris’,\\n\\nFrances Thomas’, Ermira Lleshi’, Nanne Aben’, Cyril H. Benes‘, Andrea Bertotti*®,\\n\\nLivio Trusolino**, Lodewyk Wessels”*’ & Mathew J. Garnett’\\n\\nCombinations of anti-cancer drugs can overcome resistance and provide new\\ntreatments!?. The number of possible drug combinations vastly exceeds what could\\nbe tested clinically. Efforts to systematically identify active combinations and the\\ntissues and molecular contexts in which they are most effective could accelerate the\\ndevelopment of combination treatments. Here we evaluate the potency and efficacy\\n\\nof 2,025 clinically relevant two-drug combinations, generating a dataset\\nencompassing 125 molecularly characterized breast, colorectal and pancreatic\\ncancer cell lines. We show that synergy between drugs is rare and highly\\ncontext-dependent, and that combinations of targeted agents are most likely to be\\nsynergistic. We incorporate multi-omic molecular features to identify combination\\nbiomarkers and specify synergistic drug combinations and their active contexts,\\nincluding in basal-like breast cancer, and microsatellite-stable or KRAS-mutant colon\\ncancer. Our results show that irinotecan and CHEK1 inhibition have synergistic\\neffects in microsatellite-stable or KRAS-7P53 double-mutant colon cancer cells,\\nleading to apoptosis and suppression of tumour xenograft growth. This study\\nidentifies clinically relevant effective drug combinations in distinct molecular\\nsubpopulations and is a resource to guide rational efforts to develop combinatorial\\n\\ndrug treatments.\\n\\nSingle-agent targeted therapies for patients with molecularly defined\\ntumours are transforming cancer treatment. Nonetheless, many\\npatients still lack effective treatments and pre-existing or acquired\\nresistance limits the clinical benefit of even the most advanced medi-\\ncines?. Empirically developed combinations of chemotherapy drugs\\nare used to treat cancer patients\\'. Combination therapies using tar-\\ngeted anti-cancer agents have the potential to overcome resistance,\\nenhance the response to existing drugs, reduce dose-limiting single\\nagent toxicity and expand the range of treatments’, as exemplified by\\ntriple combination therapy for patients with BRAF-mutant colorec-\\ntal cancer’. However, our ability to predict effective combinations is\\nlimited*. Molecularly annotated cancer cell line panels® are increas-\\ningly being used to identify active drug combinations***. Studies\\nperformed so far have limitations, including testing relatively few\\ncombinations, using few molecularly targeted drugs, or using a lim-\\nited number and sub-optimal range of drug concentrations. Further-\\nmore, previous studies have employed a limited number of cell lines*\\n(a maximum of 85), making it difficult to link combination activity\\nand molecular context.\\n\\nDrug combination screens in cancer cells\\n\\nTo systematically identify active drug combinations, we used the\\nGenomics of Drug Sensitivity in Cancer (GDSC) cell line screening plat-\\nform>to measure the effects of 2,025 pairwise drug combinations (Sup-\\nplementary Table 1) in 125 cell lines (supplementary Table 2), including\\nbreast (n= 51), colorectal (n = 45; hereafter referred to as colon)\\nand pancreatic (n = 29) cancer (Fig. 1a). We produced 296,707 drug\\ncombination viability measurements for 108,259 combination-cell\\nline pairs, making it the second largest drug combination dataset by\\nnumber of combinations and experiments, with the largest number\\nof cell lines tested***.\\n\\nEach cell line has mutation, copy number alteration, methylation and\\ngene expression data available (Extended Data Fig. 1a, Supplementary\\nTable 2). We selected drugs for each tissue including chemotherapeu-\\ntics and targeted agents approved by the United States Food and Drug\\nAdministration (FDA), drugsin clinical development and investigational\\ncompounds (Extended Data Fig. 1b, c). We enriched for drugs against\\nkey targets and pathways (n= 20), such as ERBB2 inhibitors in breast\\n\\n‘Wellcome Sanger Institute, Cambridge, UK. Division of Molecular Carcinogenesis, The Netherlands Cancer Institute, Amsterdam, The Netherlands. °Candiolo Cancer Institute, FPO-IRCCS,\\nTurin, Italy. ‘Massachusetts General Hospital, Harvard Medical School, Boston, MA, USA. °Department of Oncology, University of Torino School of Medicine, Turin, Italy. Department of EEMCS,\\nDelft University of Technology, Delft, The Netherlands. ‘Oncode Institute, Amsterdam, The Netherlands. *These authors contributed equally: Patricia Jaaks, Elizabeth A. Coker.\\n\\n™e-mail: mg12@sanger.ac.uk\\n\\n166 | Nature | Vol 603 | 3 March 2022\\n 125 cancer cell lines\\n51 breast\\n\\n108,259 drug responses\\n\\n45 colorectal 29 pancreas\\n\\nSynergy classification\\nbased on:\\n1. Efficacy (AE wna.)\\n2. Potency (AIC; 9)\\n2,025 drug combinations\\nMaximum\\n\\nDrug concentration\\n\\n907 113) 355\\nasi Combination responses\\n\\nKaNO an 2,025 combinations > AE... AICs9, COMBO Emax\\nSingle agent responses\\n\\n65 drugs — library IC;5\\n\\nMolecular features\\n\\nMutation, copy number, methylation\\nClinical subtypes\\n\\n— Expected f=\" Gene expression PAMS0_ in breast\\n@liss) .\\n— Observed Ge 2.or Mutation-based genomic signatures CRIS _ incolon\\n7,941 ,266 statistical tests performed\\nUsing GDSCtools ANOVA\\nPan-tissue Molecular baskets\\n>\\nAnalysis ; Pan-tissue Breast Colon\\nypes Pertissue P53, PIK3CA, KRAS_Basal-like, PIK3CA MSS, KRAS\\n\\n8,078 significant and large effect-size biomarkers\\nP< 0.001, FDR < 5%, both Glass delta > 1\\n\\nb Type Decrease Increase\\nabe! mm Chemo. + chemo. over Bliss over Bliss\\nLibrary I Imm Chemo. + targeted AC, im —\\nlm Targeted + targeted c —_— —\\nAnchor and library pathway\\n2 [Ml ABL signalling IGFAR signalling\\n£ Apoptosis regulation 1) JNK and p38 signalling\\n3 Cell cycle Hl Mitosis\\n2 [ll Chromatin histone acetylation lj Other\\n8 [ll Chromatin other I Other kinases\\n5 [lll Cytoskeleton Ill p53 pathway\\nB [lll DNA replication Ill PISK-MTOR signalling\\n\\nEGFR signalling\\n| ERK MAPK signalling\\n[lll Genome integrity\\n\\n[) Protein stability and degradation\\nI RTK signalling\\n[ll WNT signalling\\n\\nmap\\nites ae\\n\\nVariable\\n1,275 combinations\\n\\nMostly inactive\\n\\nFig.1|Alarge-scale drug combination screen. a, 2,025 drug combinations\\nwere screened in breast, colon and pancreas cancer cell lines (n = 125). Synergy\\nwas evaluated on the basis of efficacy (AE,,,,,) and potency (AIC;) for 108,259\\ndrug responses and integrated with cell line molecular features to identify\\nbiomarkers. b, Heat map of AIC; values for 1,275 combinations in 51 breast\\n\\nand drugs targeting MAPK signalling in colon and pancreas (Extended\\nData Fig. 1d, Supplementary Table 1). We tested 121 combinations in\\nall three tissues.\\n\\nTo screen efficiently we used a 2 x 7 concentration matrix, or\\n‘anchored’ approach. We screened each anchor compound at two\\noptimised concentrations and a discontinuous 1,000-fold (7-point)\\ndose-response curve of the library compound (Extended Data Fig. le).\\nSingle-agent and combination viability measurements were fitted per\\ncellline and multiple parameters derived including: (1) anchor viability\\neffect, (2) library and combination viability effect at the highest-used\\nlibrary concentration (library £,,,,and combination E,n.., respectively),\\nand (3) the estimated library drug concentration producing a 50%\\nviability reduction (IC;,) for the library and combination (Extended\\nData Fig. 1f). We compared observed combination response of cells to\\nthe Bliss independence-predicted response’ based on monotherapy\\nactivity, and classified drug combinations on the basis of shifts beyond\\nBliss in potency (AICso; thatis, increased sensitivity) or efficacy’? (AE max;\\nthat is, reduced cell viability) (Extended Data Fig. 1g). We classified\\ncombination-cell line pairs as synergistic if, at either anchor concentra-\\ntion, combination IC. or E,,,, was reduced eightfold or 20% viability\\nover Bliss, respectively (Extended Data Fig. 1h). Stringent quality control\\nwas applied to all screening data: technical and biological replicates\\nwere highly correlated and library IC, values were highly correlated\\nwith ICs, values from independent screens (Extended Data Fig. 2a-e,\\nSupplementary Table 2).\\n\\nDimensional reduction (using t-distributed stochastic neighbour\\nembedding (¢-SNE)) on the 121 pan-tissue combinations showed moder-\\nate mixing of cell lines by tissue, indicating that tissue has some effect on\\ncombination response, but is not on its owna major driver of variation\\n(Extended Data Fig. 2f), as previously described by others*. Clustering\\nby AIC; for all tissue-specific and pan-tissue combinations, we observed\\n\\nBroadly active\\n\\ncancer cell lines: clustering by combination and annotation by combination\\ntype, anchor and library pathway. AIC;o limits are clipped to —4 and 4, rows are\\nsorted by conditional mean AIC,, on cell line identity. Chemo.,\\nchemotherapeutic agent.\\n\\nthat combinations fall into three major groups: (1) broadly active,\\n(2) minimally active, and (3) variable activity (Fig. 1b, Extended Data\\nFig. 2g-i). All data are available for download or exploration through\\nGDSC Combinations, https://gdsc-combinations.depmap.sanger.ac.uk/.\\n\\nThe landscape of drug interactions\\n\\nOverall, 5.2% of the 108,259 combination-cell line pairs showed syn-\\nergy, with the highest rate in pancreas (7.2%), then colon (5.4%) and\\nbreast (4.4%). Only 27.5% of synergistic combination-cell line pairs\\nwere observed at both high and low anchor concentrations, suggest-\\ning that synergy is detected within a specific range of concentrations\\n(Fig. 2a) and pointing to the utility of aggregating synergy calls from\\nboth anchor concentrations. Synergy occurred most frequently in\\na background of weak to moderate single-agent activity, enhancing\\nexisting drug responses (Extended Data Fig. 3a). 54.9% of synergistic\\nmeasurements affected either efficacy (22.2%) or potency (32.7%),\\nwhereas 45.1% affected both, indicating that these two metrics describe\\ncomplementary responses (Fig. 2b). Although synergy overall was\\nrare, most frequently observed in less than 3 cell lines per tissue, 192\\ncombination-tissue pairs (7.8%; 60 breast, 52 colon and 80 pancreas)\\nwere synergistic in at least 20% of cell lines from their respective tissue\\n(Supplementary Table 1). The relative frequency and context specificity\\nof synergy was retained independent of the synergy threshold applied\\n(Extended Data Fig. 3b).\\n\\nRescreening a subset of 45-59 frequently synergistic combinations\\n(51 breast, 45 colonand 59 pancreas) in30 cell lines per tissue resulted\\nina validation dataset of 4,881 combination-cell line pairs. Primary and\\nvalidation datasets correlated well for single-agent and combination\\nresponse metrics (r= 0.69-0.84, all P< 0.001), and synergy classifica-\\ntions were consistent for all tissues (F-score: 0.62-0.7; recall: 0.61-0.76;\\n\\nNature | Vol 603 | 3 March 2022 | 167\\n Article\\n\\na Concentration d e\\nbow Both Ml High Basal HER2 Luma LumB Normal ow =30)\\n} - fa n=\\nhe fase see TT il . p °\\n\\' 8 wees elon (n= 160)\\n0 25 50 75 100 Alisertib (AURKA) § Seo) 2-897)\\nSynergy rate (%) 2 |__smmememecsee IS. [Elo 2(n=\\nyneray rate (%6) 2M447439 (AURKA/B) ba Ss g\\nb AIC, Both Ea g |__amen cam ae ccanees em om IS 3(n=614)\\nME ACs = Tozasertib (AURKs) 2\\n\\n25 50 75\\n\\nSynergy rate (%)\\n\\n100\\n\\nc\\n\\nSynergy Il Yes\\n\\n25 50\\n\\nSynergy (%)\\n\\n75\\n\\n6] © Breast Pacitaxe! D> Breast\\n@ Colon Tozasertib\\nSe Crizotinib Colon\\nAlisertib Pancreas\\n4 GSK269962A ZM447439\\n= Peary PsP aoO Qos gO odooh FeO seOoO cs FOO HO OH OO Oyo\\nos Paclitaxel ewe oa ROeCy SS ore oe rN BK Let seen . S35 38 See ce\\ng ; Vinorelbine @— scnzz2084 » oe SEES Ne SS Rte Se aX re NS AS aS\\nAX \\\\\\nTaselisib Camptothecin Oe Oy 385 SSaeetiy Karger OU Oe oe os es oem\\nPR at oF RO SINGS vere see ES WAN se SN\\nLinsitinibs’ Trametinib S xe oS x “\\ninsitinil en we Keo SG We age\" LS oy oe ‘ ao SIRS SK\\nof o RO-3306 ee 8\\n\\n0 20 40\\n\\nSynergy rate (%)\\n\\n60 80\\n\\nFig. 2| Synergy is rare and highly context-dependent. a, Overlap of synergy\\nidentified at two anchor concentrations. n= 5,541 synergistic combination-cell\\nline pairs. b, Synergy calls by AIC, and AE,,,, are complementary. n= 9,402\\nsynergistic measurements. c, Navitoclax combination partners and\\ntissue-specific enrichment in synergy (hypergeometric test). Enriched\\nnavitoclax partners (P< 0.005, FDR < 5%) are labelled. d, Combinations of\\nnavitoclax with AURK inhibitors are frequently synergistic in breast cancer cell\\n\\nprecision rate: 0.56-77; original screening set defined as ‘positive’)\\n(Extended Data Fig. 3c—e). Differences in classifications were frequently\\nborderline cases and larger synergy effects were most reproducible\\n(Extended Data Fig. 3f).\\n\\nOf the 65 drugs in our screen, 10 were chemotherapeutic agents\\nand 31.2% of all combinations contained one (28.7%) or two (2.5%)\\nchemotherapeutic agents. Chemotherapeutic-chemotherapeutic\\ncombinations had lower AIC,, and A£,,,, shifts than combinations with\\ntargeted compounds (Extended Data Fig. 3g), resulting in lowsynergy\\nrates (21 out of 2,337 combination-cell line pairs (0.9%)) compared with\\n3.2% and 6.1% for chemotherapeutic-targeted and targeted-targeted\\ncombinations, respectively.\\n\\nWe observed significant enrichment of synergy when chemothera-\\npeutics were paired with drugs targeting apoptotic signalling and cell\\ncycle inhibitors (hypergeometric test, adjusted P < 0.05). More than 76%\\nof synergies between chemotherapeutics and cell cycle inhibitors per tis-\\nsue occurred with AZD7762 (CHEK1/2), pairing well with 5-fluorouracil,\\ngemcitabine, cisplatin and irinotecan (Extended Data Fig. 3h).\\n\\nCombinations with the apoptosis regulator navitoclax (an inhibi-\\ntor of BCL-2, BCL-XL and BCL-W) comprised 25.4% of all synergistic\\ncombination-cell line pairs (1,418 out of 5,580), despite only repre-\\nsenting 5.4% of combinations (109 out of 2,025). Seventy-eight per\\ncent (137 out of 175) of combination-tissue pairs with navitoclax were\\nsynergistic in at least three cell lines (average per combination-tissue:\\n19.6% synergy). Navitoclax showed a synergy rate of more than 50%\\nwhen combined with TOP1 inhibitors (irinotecan in pancreas and\\ncamptothecin in breast and colon) or microtubule stabilisers (doc-\\netaxel or paclitaxel) and destabilisers (vinorelbine) (Extended Data\\nFig. 3i). Targeted drugs that were synergistic with navitoclax were\\nmostly tissue-specific (Fig. 2c). Navitoclax had particularly high syn-\\nergy rates in breast when combined with either of the three aurora\\nkinase (AURK) inhibitors alisertib, tozasertib or ZM447439 (61%, 60%\\nand 53%, respectively). Navitoclax with alisertib and ZM447439 were\\n\\n168 | Nature | Vol 603 | 3 March 2022\\n\\nos\\n\\nNot enriched Not screened\\n\\nSynergy (%)\\n\\n0 10 20 30 40 50\\nlines, with exception of HER2 cells. Binary synergy for navitoclax (anchor)\\npaired with three AURK inhibitors with indicated specificity across PAMSO\\nsubtypes. e, Synergy rates for 1,736 combinations of two targeted drugs by\\nminimum (min.) network distance between drug targets. Two-sided Student’s\\nt-test. f, Twenty-four unique target pathway pairs enriched in synergy in at least\\none tissue (136 unique pairs tested; hypergeometric test, P< 0.005, FDR< 5%).\\nRed denotes pathway pairs that are enriched in all three tissues.\\n\\ntested and had reproducible synergy in the validation screen (94%\\nand 88%, respectively). Notably, synergy was frequently observed for\\nat least two out of three navitoclax-AURKi combinations in all PAM5O\\nsubtypes (63% (12 out of 19 cell lines) in basal-like, 73% (8 out of 11) in\\nLumA and 75% (3 out of 4) in LumB), with the exception of HER2 cell\\nlines (17%, 1 out of 6 cell lines) (Fig. 2d). These data support ongoing\\nefforts to use combinations suppressing anti-apoptotic adaptation in\\ncancer\", but indicate that in defined cancer types, pairing with specific\\ntargeted drugs is most likely to be effective.\\n\\nFor the 67% of combinations involving two targeted compounds,\\nwe investigated pathway relationships between drug targets and their\\nsynergy rate. We overlaid drug targets for all 57 targeted compounds\\nonto a protein-protein interactome of 14,431 protein nodes and 110,118\\nedges based on the IntAct” database, filtered to unique human pro-\\ntein—protein interactions (confidence threshold: 0.5). We calculated\\nthe shortest finite network distance between the drug target nodes and\\nfound that on average combinations whose targets are between one\\nand two nodes away from each other yield the most synergy (Fig. 2e), as\\nreported previously*, which indicates that there is an optimal average\\ntarget distance to induce synergy.\\n\\nTo further understand how targeted-targeted drug combinations\\nwork at the pathway level, we grouped combinations into unique\\ncurated pathway pairs by tissue on the basis of the nominal therapeu-\\ntic target(s) of each drug (excluding navitoclax combinations, as dis-\\ncussed separately, Supplementary Table 1). Eighteen per cent (25 out\\nof 136) of pathway pairs were significantly enriched in synergy in at\\nleast one tissue (hypergeometric test, P< 0.005, false discovery rate\\n(FDR) < 5%) (Fig. 2f). Five pathway pairs were enriched in synergy in\\nall three tissues, including dual targeting of receptor tyrosine kinase\\n(RTK) signalling, targeting of RTK signalling with downstream PI3K\\nor MAPK pathways, or targeting of PI3K and MAPK pathways. Taking\\nPI3K and MAPK pathways as examples, we examined inter-pathway\\nversus intra-pathway combinations. Inter-pathway targeting of PI3K\\n and MAPK pathways resulted in 2-5 times higher synergy rates than the\\ntissue average: breast: 10.1% (versus 4.4%), colon: 17.1% (versus 5.4%) and\\npancreas: 36.4% (versus 7.2%). Conversely, intra-pathway targeting of\\nthe MAPK or PI3K pathways showed below or close to average rates of\\nsynergy (MAPK combinations: 2.2%; PI3K combinations: 6.7%; all com-\\nbinations: 5.2%) (Extended Data Fig. 3j). Despite low intra-PI3K path-\\nway synergy, we detected a distinct combination-specific synergy of\\nMK-2206 (AKT1/2) combined with MTOR inhibitors OSI-027 or AZD8055\\ninbreast (24% and 25% synergy rates, respectively), particularly in the\\nPAMSO subtype HER2 (50-75%; 4 or 6 out of 8 cell lines) (Extended Data\\nFig. 3k). This combination may work by inhibiting feedback activation\\nof AKT in HER2 breast cancer due to mTOR inhibitor-induced activation\\nof PI3K signalling’. Numerous MAPK and PI3K inter-pathway combina-\\ntions are currently in clinical trials, and preliminary data suggest that\\nintermittent drug administration, isoform-selective PI3K inhibitors\\nand site-specific delivery of drugs could maximise clinical activity\\nwhile increasing tolerability’.\\n\\nOverall, we find that drug synergy, on the basis of complemen-\\ntary potency and efficacy metrics, is rare but frequent for a subset\\nof combinations. Synergy most frequently enhances weak to modest\\nsingle-agent drug response and rates are highest for combinations of\\ntargeted compounds. Combinations containing the apoptosis regula-\\ntor navitoclax show high synergy rates. Whereas some trends are univer-\\nsalacross all three tissues, such as high synergy rates for inter-pathway\\ntargeting of MAPK and PI3K pathways, other synergistic effects are\\ntissue-specific, including navitoclax plus AURK inhibition in breast.\\n\\nCombination response molecular markers\\n\\nAssociations between molecular features and drug response, referred\\nto here as biomarkers, can provide insights into the cellular behaviour\\nthat dictates response to drug treatment and can inform clinical devel-\\nopment of therapies. We used GDSCTools\\' to identify multi-omics\\nbiomarkers of combination (AIC,o, AE,,,, and combination F,,,,) and\\nsingle-agent (IC,,) responses. Multiple analyses were performed, group-\\ning cell lines in molecular contexts, including pan-tissue (3 tissues),\\nindividual tissues and seven molecular ‘baskets’ representing specific\\nmolecular subgroups (7P53, KRAS, PIK3CA, breast PIK3CA, basal-like\\nbreast cancers, colon KRAS and colon microsatellite-stable (MSS))\\n(Fig. la). TPS3, KRAS and PIK3CA are the most frequently mutated genes\\nacross the cell lines, and the intra-tissue molecular baskets represent\\ncancers with unmet clinical need.\\n\\nWe performed 7,941,266 analysis of variance (ANOVA) tests, out\\nof which 8,078 associations were significant and of large effect size\\n(P< 0.001, FDR < 5%, Glass deltas for positive and negative populations\\nboth 21) (Fig. 1a, Supplementary Table 3). Biomarkers of all feature\\ntypes were found for all drug response inputs, except for CRIS and\\nPAMSO classifications (Extended Data Fig. 4a). Some 3,280 biomarkers\\n(40.6%) were significantly associated with monotherapy IC,, including\\nmultiple previously described associations’ such as taselisib (PI3K\\ninhibitor) sensitivity in P/K3CA-mutant cell lines (Extended Data Fig. 4b).\\nWe identified 4,798 significant combination response biomarkers, of\\nwhich18.4%, 15.8% and 65.7% were associated with potency (AIC,), effi-\\ncacy (AE,,,,) and combination activity (combination £,,,,), respectively\\n(Fig. 3a, Extended Data Fig. 4c). Of note, 76.8% of the AIC; and AE,,,\\nbiomarkers are associated with either AlC;, (43.0%) or AE, (33.8%)\\nbut not with both, consistent with the complementary nature of these\\nsynergy metrics. Of the 2,025 combinations, 28.7% had at least one\\ncombination response biomarker (for combinations with one or more\\nbiomarkers: median: 2, range: 1-152; Extended Data Fig. 4d). We identi-\\nfied more than 2,050 combination biomarkers unique to the molecular\\nbasket analyses, demonstrating the benefit of testing for biomarkers\\nwithin defined molecular subgroups.\\n\\nOf the 1,645 AIC,, and AE,,,, associations, we identified only three\\nin pancreas-specific analyses: of these, low CDH1 gene expression,\\n\\nwhich is associated with epithelial-to-mesenchymal transition, sen-\\nsitised cells to irinotecan (TOP1 inhibitor) plus AZD7762 (CHEK1/2\\ninhibitor) (Extended Data Fig. 4e). Among known combination bio-\\nmarkers, we identified BRAF mutation as a biomarker for dabrafenib\\n(BRAF) paired with EGFR inhibitors afatinib and sapitinib screened\\nin colon (Extended Data Fig. 4f), with synergy occurring exclusively\\nin BRAF-mutant cell lines’ (4 or 6 synergistic cell lines, respectively).\\nCombinations of EGFR antibodies and BRAF inhibitors area clinically\\napproved regimen in BRAF-mutant metastatic colorectal cancer”.\\nThese examples show that our screen can identify known clinical\\nbiomarkers and candidate markers of combination response war-\\nranting further investigation.\\n\\nTo understand the relationship between drug targets and the molecu-\\nlar features in cells that influence drug synergy, we overlaid single-agent\\nand combination biomarkers onto the previously described IntAct\\nprotein-protein interactome. We mapped 42.2% (633 out of 1,501)\\nof features onto protein nodes; mapping was impossible for certain\\nfeatures such as clinical subtyping. We calculated the shortest finite\\nnetwork distance between each of the drug target and feature nodes\\nfor 582 and 124 unique combination and single-agent biomarkers,\\nrespectively (Extended Data Fig. 5a). Both types of biomarkers have a\\nmedian shortest node distance of 3 (interactome diameter or maximum\\ndistance = 12); however, sensitivity biomarkers that were the drug target\\nthemselves (that is, a shortest distance of zero) were rarer for combina-\\ntions (2.75%) than for single-agents (12.33%; Extended Data Fig. 5a). This\\nwas confirmed using Reactome’, analternative interactome (Extended\\nData Fig. 5b), and randomly shuffling biomarkers to simulate entirely\\nfalse-positive associations eliminated the observation (Extended Data\\nFig. 5c for IntAct and Extended Data Fig. 5d for Reactome). These data\\nare consistent with synergy being mediated through combined drug\\nactivity and indicate that drug combination biomarkers can be difficult\\nto determine by single-agent activity alone.\\n\\nExamples of combination biomarkers that are drug targets are high\\ngene expression of PARP] in olaparib (PARP1/2 inhibitor) combina-\\ntions, and a copy number gain of CDK12, ERBB2 and MED24 (feature:\\n‘gain:cnaPANCAN301) as predictor of sensitivity to ERBB2-targeting\\ncombinations such as lapatinib (targeting EGFR and ERBB2) with vori-\\nnostat (a histone deacetylase inhibitor) in breast. Low expression of\\nNRAS predicted response to dabrafenib (BRAF inhibitor) plus trametinib\\n(MEK1/2 inhibitor) in breast, consistent with NRAS expression modulat-\\ning BRAF inhibitor sensitivity”. This represents a biomarker one node\\naway froma combination drug target (Fig. 3b). Mutation of P/IK3CA pre-\\ndicted response to linsitinib (which targets IGF1R) + MK-2206 (AKT1/2\\ninhibitor) ina pan-tissue KRAS-mutant context, and is two nodes away\\nfrom targets of both drugs (Fig. 3c).\\n\\nConsidering the combination-tissue pairs with more than three syn-\\nergistic cell lines, we find that 164 out of 662 (24.8%) have at least one\\nassociated AF,,,, or AIC; biomarker (Fig. 3d, Supplementary Table 4).\\nWe found several examples in which the identified feature associated\\nwith combination response is closely associated with synergy. For\\ninstance, all seven breast cell lines synergistic for the combination of\\nsapitinib (EGFR and ERBB2/3 inhibitor) and JQ1 (an inhibitor of BRD2,\\nBRD3, BRD4 and BRDT) show a gain in ERBB2 (Fig. 3e). Similarly, six out\\nof nine breast cell lines that show synergy for MK-2206 (AKT1/2 inhibitor)\\nandalpelisib (PI3Ka inhibitor) havea mutation in PTEN. Ina pan-tissue set-\\nting, KRAS mutation significantly associates with sensitivity to trametinib\\n(MEK1/2 inhibitor) and MK-2206 (AKT1/2 inhibitor), and 74% of synergistic\\ncell lines are KRAS mutants (Fig. 3f). These examples demonstrate that\\nmany synergistic combinations can be linked with a biomarker.\\n\\nOur comprehensive analysis identified drug combination response\\nbiomarkers, including for many synergistic combinations, which could\\nbe used for patient stratification in pre-clinical and clinical follow-up.\\nCombination biomarkers are more likely than single agents to be emer-\\ngent properties arising from combinatorial drug activity in the context\\nof signalling networks.\\n\\nNature | Vol 603 | 3 March 2022 | 169\\n Article\\n\\na\\n@ Intra-tissue molecular basket @ Pan-tissue molecular basket\\n@ Pan-tissue @ Breast @ Colon @ Pancreas\\n154\\nBRAF mut,\\ndabrafenib + afatinib *< High PARP? exp.,\\nAPC mut (colon) olaparib + navitoclax\\n5-FU + linsitinib (breast)\\n(TP53 mut context) :\\nBRAF mut,\\nHigh AREL1 exp. dabrafenib + sapitinib\\n10+ palbociclib + gemcitabine (colon)\\n(breast)\\n3s\\n$\\na Low CDK6 exp.,—> = iB\\n®@ | olaparib + linsitinib . ~ .\\n7\\n\\n(pan-tissue) .\\n54\\nPIK3CA mut,\\nMK-2206 + linsitinib :\\n(KRAS mut context) High RMDMS exp.,\\ntaselisib + SCH772984\\n(pan-tissue)\\nLow CDH exp.,\\nirinotecan + AZD7762\\no4 (pancreas)\\nT T T 1\\n4 0 4 8\\nEffect size\\n\\nFig. 3| A biomarker pipeline incorporating multi-omics features identifies\\ncontext-specific associations. a, Volcano plot of biomarkers associated with\\nAIC.o (n= 2,006,328). Statistically significant large effect-size biomarkers\\n(n=884) are coloured by analysis type. Examples discussed in the text and\\nselected outliers are labelled. Exp., expression; mut., mutant. b, Schematic of\\nMAPK pathway showing the relationship between NRAS and BRAF. Low\\nexpression of NRAS is a biomarker of certain dabrafenib-containing\\ncombinations. c, Network of interactors of PIK3CA, showing its position two\\nnodes away from targets of MK-2206 and linsitinib. PIK3CA mutationis\\npredictive of the linsitinib + MK-2206 combination response in the\\n\\nCombinations in cancers with unmet need\\n\\nWe leveraged the number and molecular diversity of the cell lines to\\ninvestigate synergy rate, biomarkers and clinical trials for combina-\\ntions screened in three populations with unmet clinical need: patients\\nwith basal-like breast cancer (n = 22), MSS colon cancer (n= 31) or\\nKRAS-mutant colon cancer (n= 25).\\n\\nWe compared combination synergy rates within each of these\\npopulations with the other cell lines from the same tissue (Fig. 4a,\\nExtended Data Fig. 6a, b). Between 3% and 5% (n = 107) of all combi-\\nnations have synergy in at least 25% of cell lines from these popula-\\ntions (41 combinations for basal-like breast cancer, and 28 and 38\\nfor MSS and KRAS-mutant colon cancer, respectively), with some\\nhaving exquisite specificity of synergy in the population of interest.\\nOf these 75 unique combinations, we identified 11 combinations with\\nmatching trials on clinicaltrials.gov for basal-like breast (10 trials) or\\nMSS colon (1 trial) cancer (Fig. 4b, Supplementary Table 5). Cisplatin\\n(aDNA crosslinker) combined with gemcitabine (a pyrimidine anti-\\nmetabolite) or MK-1775 (WEE1 and PLK1 inhibitor; using MK-1775 as\\nanchor) was highly synergistic in basal-like breast cancer (47% and\\n59% synergy rate, respectively) and both combinations are in clini-\\ncal trials in clinically related triple-negative breast cancer (Fig. 4a).\\nSynergy for cisplatin + gemcitabine was tested and robust in the\\nvalidation screen (88% synergy overlap). Furthermore, several com-\\nbinations showed repurposing potential: for instance, combined\\nMK-1775 (WEE1 and PLK1 inhibitor) and irinotecan (TOP1 inhibitor)\\ntreatment, screened with camptothecin as the TOP1 inhibitor, had\\n\\n170 | Nature | Vol 603 | 3 March 2022\\n\\nb c\\nMAPK pathway (Pox\\nLow exp. —\\n}  Mk-2206 —4 PIKSCA MUMMCUy\\nDabrafenib — (ER\\n4 (HsP90a ins? } (irs)\\net Le\\n4 SHC1\\n( ERK } ESA1 |\\nSurvival Linsitinib —+ eigs3}\\nd Breast Ae IB Synergy and biomarker\\nay OS I Biomarker\\nPancreas Neither\\n0 25 50 75 100\\nCombinations with > 3 synergistic cell lines (9%)\\n@ Fe] Nosynergy Gq Synergy f 104 P=25x10-\" Bm Srerey\\nNo syneray\\n02\\nB01 ra\\na, =\\nO41 20 40 60\\n\\nNo. of cell lines\\n\\nWT Mut\\nKRAS\\n\\nGain\\nERBB2\\n\\nKRAS-mutant molecular context. d, Number of combinations with at least three\\nsynergistic cell lines and combination response biomarkers (AE,,,,, Of AICso).\\n\\ne, Gain of ERBB2is associated with sapitinib + JQ1 combination response in\\nbreast and all synergistic cell lines have an ERBB2 amplification. f, KRAS\\nmutation is associated with trametinib + MK-2206 combination response ina\\npan-tissue setting (left, two-sided Welch’s t-test) and most synergistic cell lines\\nharbour mutated KRAS (right). In box plots, the horizontal line shows the\\nmedian, boxes extend across first and third quartiles, and whiskers extend to\\n1.5x interquartile range.\\n\\na26.7% synergy rate in MSS colon cancer (versus 6.7% in microsatel-\\nlite unstable (MSI)), is currently ina trial in rhabdomyosarcoma and\\nblastomas (NCT02095132). Phase 1 safety studies of navitoclax (BCL2,\\nBCL-XL and BCL-W inhibitor) paired with chemotherapeutics such as\\ngemcitabine, docetaxel and paclitaxel are ongoing, all of which had\\nhigh synergy rates in basal-like breast (63%, 41%, and 38%; Fig 4a),\\nwith navitoclax + gemcitabine, the only one of the three that was\\npart of the validation screen, having robust synergy (100% overlap\\nbetween screens).\\n\\nAthird or more of top-ranking combinations in populations of unmet\\nneed had at least one AEF,,,, or AIC;, biomarker, some of which were\\nidentified within the molecular basket that defines the population\\n(Fig. 4b, Supplementary Table 5). For example, in the KRAS-mutant\\ncolon group, cell lines with loss of ERCC3 were associated with sensi-\\ntivity to linsitinib (IGF1R inhibitor) plus MK-2206 (AKT1/2 inhibitor)\\n(Extended Data Fig. 6c). Our data can identify specific combinations in\\npopulations of unmet need, provide support for ongoing clinical trials,\\nand identify biomarkers and repurposing opportunities for combina-\\ntions already in trials.\\n\\nIrinotecan and CHEKI1i synergize in colon\\n\\nOne of the top synergistic combinations was camptothecin (TOP1\\ninhibitor) with AZD7762 (CHEK1/2 inhibitor). Camptothecin is an\\nanalogue of the standard-of-care chemotherapeutic irinotecan\\nused to treat colon cancer, and CHEK1 inhibitors can potentiate\\nresponses of DNA-damaging compounds through abrogation of DNA\\n Biomarker and trial © Biomarker  @ Trial leither\\na Biomarker and trial © Biomark Trial © Neith c d ‘AZD7762 (CHEK1/2)\\n80 n= 1,275 combinations Prexasertib (CHEK1/2)\\nR= 0.68, P< 0.001\\n8 MK-8776 (CHEK1/2, CDK2) 2\\n. . 3\\n=e Navitoclax + paclitaxel g Rabusertib (CHEK1) #\\nx\\n& ‘SAR-020106 (CHEK1\\n= y (CHEK1) dit-\\n3 e Navitoclax + docetaxel CCT241533 (CHEK2) eff |\\n© 40 ; . MS 5 Mss 0 o1 o2 08 0 1 2 3 4\\n5 . t Gemcitabine + meters AE ax AIC,\\nfal . AZD7762\\n> . or) e@ Observed - additive\\n2 3 33¢ Navitoclax x + gemeitabine (acu) CTOX signal (GCU) Feature SN-38+ SN-38 +\\nB27 pee Fy A e >e — u Mi Yes + = SN-38 Rab Rab CCT CCT\\noS Bear TE oo a0 050 soo so Ne crox\\n® Gemcitabine\\n; MK-1775 + cisplatin deta Be BE as\\n° Additive\\nPARP| _—— —_\\nCisplatin + gemcitabine Observed = ees\\n0 20 40 60 80 DMSO Cleaved| ses jon —_— #0\\nSynergy rate basal (%) SN-38 PARP =\\nbs MiBiomarker and trial i Biomarker [Trial [Neither Rabusertib Tubulin ee Nearer Ne Nee 50\\nBasal-like breast Mss\\nKRAS mut. colon [EE KRAS mut. Cell death signal (GCU) (iE\\nMSS colon TP53 mut. 10 30 50\\n0 10 20 30 40 Cas3/7 activity (GCU)\\nCombinations with >25% synergy 1 2 3\\ng Ls-1034 sws37 SNU-81 h i Phospho-H2AX Active caspase-3\\noo 150] P=0.012 | P=0.011 | P=027 © 0.0008 © 0.0001\\n25 . § 30 1 § —\\n5% 100 & . & :\\nSe ‘ g B : B2\\noe = 6 20 : 5\\nEE 50 s Pa =\\n28 S O° : 3°\\nS g Pa Pa\\nS 5 4\\nSE 0 3 § 10 sulad\\n5eé is} is} le :\\neg -50 — Irinotecan 5 5 f =\\n5x — Irinotecan + rabusertib a a .\\nFS\\no-+ T T T T 1 oT\\nIrino Irino + Irino Irino+ rin Irino + 0 10 20 30 40 50 er FS FS\\nne 11 an 8 oa \" as Time after treatment we oF ”\\n— discontinued (days) eS RS\\n\\nFig. 4| Populations of unmet clinical need and validation of combined\\nirinotecan and CHEK 1 inhibitor treatment. a, Synergy rates of combination\\ntreatments for breast cancer, comparing basal-like (x-axis) against other\\nPAMSO subtypes (y-axis). Dashed line indicates a 25% synergy rate. R, Pearson\\ncorrelation coefficient. Combinations with biomarkers or clinical trials are\\nindicated. b, Combinations with at least 25% synergy with biomarkers or\\nongoing trials. c, AZD7762 (CHEK1/2 inhibitor) and camptothecin (TOP1\\ninhibitor) show higher potency (AIC,,) in colon MSS cells. Replicates averaged\\nand both combination anchor-library configurations pooled. Two-sided\\nWelch’s t-test. d, The response to combination treatment is CHEK1-specific.\\nActivity of camptothecin combined with six CHEK inhibitors in 4 colon cell\\nlines for 72h. e, In most cases, combined TOP1and CHEK inhibition produces\\ncell death that is greater than the additive effect. CellTox green (CTOX) signal\\n(in green calibrated units (GCU)) after 72h of treatment with SN-38 (TOP1\\ninhibitor) and rabusertib (CHEK1inhibitor). Mean of 3 or 4 biological replicates.\\nAdditive is defined as the sum of single-agent responses. Deltais observed\\nresponse minus additive response. f, Inhibition of TOP1and CHEK1 for 72h\\n\\ndamage-induced cell cycle arrest”°. This combination yielded high\\nsynergy rates in MSS colon cancer cell lines (62.1% and 53.3% for both\\norientations), with significantly higher potency and efficacy in MSS cell\\nlines than in MSI cell lines (Student\\'s t-test, P < 0.005; Fig. 4c, Extended\\nData Fig. 6d, Supplementary Table 5). Furthermore, KRAS-mutant colon\\ncell lines showed high synergy rates for this combination (46% and 48%)\\nand KRAS-TP53 double-mutant cell lines had significantly stronger\\ncombination responses than KRAS single-mutant cell lines (Extended\\nData Fig. 6e, Supplementary Table 5). Thus, we identified two poten-\\ntial patient populations, MSS and KRAS-7P53 double-mutant colon\\ncells, showing notable benefit from inhibition of both CHEK1/2 (CHEKi)\\nand TOP1(TOPIi).\\n\\ninduces caspase-dependent cell death in SW837 cells. CTOX and caspase 3/7\\n(Cas3/7) activity is shown as the mean of 3 biological replicates. PARP western\\nblotis representative of three independent experiments (+, positive control; -,\\nDMSO-only negative control); rabu, rabusertib; CCT, CCT241533. g, Rabusertib\\nincreases irinotecan response in vivo in colon cancer cells engrafted in NOD/\\nSCID mice. Two-tailed unpaired Welch’s t-test. h, Addition of rabusertib to\\nirinotecan treatment improves survival of mice. SNU-81 cells were engrafted in\\nNOD/SCID mice; mice were treated with irinotecan (n = 10 mice) or\\n\\nirinotecan + rabusertib (n = 4) for 35 days and monitored for 42 days after\\ntreatment discontinued. Log-rank Mantel—Cox test; Pvalue shown.\\n\\ni, Combined rabusertib and irinotecan treatment increases genotoxic stress.\\nLS-1034 cells were treated as ing. Tumours were collected 72h after start of\\ntreatment and stained for phospho-H2AX (n= 30) and active caspase 3\\n(rabusertib, n= 10; other groups, n=15). Dataare mean+s.d. Two-tailed\\nunpaired Welch’s t-test. In box plots, the horizontal line shows the median,\\nboxes extend across first and third quartiles, and whiskers extend to\\n\\n1.5x interquartile range.\\n\\nWe next combined camptothecin with six CHEK1/2 inhibitors with\\ndifferent selectivity. CHEK1-selective inhibitors SAR-020106 and rabu-\\nsertib produced large shifts in potency (median AIC,,: 8.5- to 10.5-fold\\nshift) and efficacy (median A£,,,,: 0.22-0.24) in combination with camp-\\ntothecin in 4 cell lines, whereas the CHEK2-selective inhibitor CCT-\\n241533 did not (Fig. 4d). Combining SN-38, the active metabolite of the\\nTOP1inhibitor irinotecan, with small interfering RNA (siRNA) against\\nCHEK1, but not CHEK2, resulted ina synergistic viability reduction\\n(Extended Data Fig. 7a—d), and at least sevenfold reduction in the IC,\\nof SN-38 (Extended Data Fig. 7e). Our results indicate that combination\\neffects of TOP1i + CHEKi are primarily mediated through inhibition\\nof CHEK1. This is corroborated by reports of the potentiating effect\\n\\nNature | Vol 603 | 3 March 2022 | 171\\n'"
            ]
          },
          "execution_count": 22,
          "metadata": {},
          "output_type": "execute_result"
        }
      ],
      "source": [
        "article_txt"
      ]
    },
    {
      "cell_type": "markdown",
      "metadata": {
        "id": "unUt1x0_nqJj"
      },
      "source": [
        "## Text preprocessing\n",
        "Now that we have the article content available, we will go ahead and remove section titles and figure descriptions from the text. Next, we will split the text into sentences."
      ]
    },
    {
      "cell_type": "code",
      "execution_count": 23,
      "metadata": {},
      "outputs": [
        {
          "name": "stderr",
          "output_type": "stream",
          "text": [
            "[nltk_data] Downloading package punkt to\n",
            "[nltk_data]     C:\\Users\\User\\AppData\\Roaming\\nltk_data...\n",
            "[nltk_data]   Package punkt is already up-to-date!\n"
          ]
        }
      ],
      "source": [
        "import nltk\n",
        "nltk.download('punkt')\n",
        "\n",
        "def clean_text(text):\n",
        "  \"\"\"Remove section titles and figure descriptions from text\"\"\"\n",
        "  clean = \"\\n\".join([row for row in text.split(\"\\n\") if (len(row.split(\" \"))) > 3 and not (row.startswith(\"(a)\"))\n",
        "                    and not row.startswith(\"Figure\")])\n",
        "  return clean\n",
        "\n",
        "text = article_txt.split(\"INTRODUCTION\")[0]\n",
        "ctext = clean_text(text)\n",
        "sentences = nltk.tokenize.sent_tokenize(ctext)"
      ]
    },
    {
      "cell_type": "markdown",
      "metadata": {
        "id": "foNDUZDwnuYX"
      },
      "source": [
        "## Biomedical named entity linking\n",
        "Now comes the exciting part. For those new to NLP and named entity recognition and linking, let's start with some basics. Named entity recognition techniques are used to detect relevant entities or concepts in the text. For example, in the biomedical domain, we want to identify various genes, drugs, diseases, and other concepts in the text.\n",
        "\n",
        "In this example, the NLP model identified genes, diseases, drugs, species, mutations, and pathways in the text. As mentioned, this process is called named entity recognition. An upgrade to the named entity recognition is the so-called named entity linking. The named entity linking technique detects relevant concepts in the text and tries to map them to the target knowledge base. In the biomedical domain, some of the target knowledge bases are:\n",
        "* MESH\n",
        "* CHEBI\n",
        "* OMIM\n",
        "* ENSEMBL\n",
        "* and others\n",
        "\n",
        "Why would we want to link medical entities to a target knowledge base? The primary reason is that it helps us deal with entity disambiguation. For example, we don't want separate entities in the graph representing ascorbic acid and vitamin C as domain experts can tell you those are the same thing. The secondary reason is that by mapping concepts to a target knowledge base, we can enrich our graph model by fetching information about the mapped concepts from the target knowledge base. If we use the ascorbic acid example again, we could easily fetch additional information from the CHEBI database if we already know its CHEBI id.\n",
        "\n",
        "I've been looking for a decent open-source pre-trained biomedical named entity linking for some time. Lots of NLP models focus on extracting only a specific subset of medical concepts like genes or diseases. It is even rarer to find a model that detects most medical concepts and links them to a target knowledge base. Luckily I've stumbled upon BERN[1], a neural biomedical entity recognition and multi-type normalization tool. If I understand correctly, it is a fine-tuned BioBert model with various named entity linking models integrated for mapping concepts to biomedical target knowledge bases. Not only that, but they also provide a free REST endpoint, so we don't have to deal with the headache of getting the dependencies and the model to work. The biomedical named entity recognition visualization I've used above was created using the BERN model, so we know it detects genes, diseases, drugs, species, mutations, and pathways in the text.\n",
        "Unfortunately, the BERN model does not assign target knowledge base ids to all concepts. So I've prepared a script that first looks if a distinct id is given for a concept, and if it is not, it will use the entity name as the id. We will also compute the sha256 of the text of sentences to identify specific sentences easier later when we will be doing relation extraction."
      ]
    },
    {
      "cell_type": "code",
      "execution_count": 24,
      "metadata": {
        "id": "JBdjSIIkK30M"
      },
      "outputs": [],
      "source": [
        "import hashlib\n",
        "\n",
        "def query_raw(text, url=\"http://bern2.korea.ac.kr/plain\"):\n",
        "    return requests.post(url, json={'text': text}).json()\n",
        "entity_list = []\n",
        "# The last sentence is invalid\n",
        "for s in sentences[:-1]:\n",
        "  entity_list.append(query_raw(s))\n",
        "  parsed_entities = []\n",
        "for entities in entity_list:\n",
        "  e = []\n",
        "  # If there are not entities in the text\n",
        "  if not entities.get('annotations'):\n",
        "    parsed_entities.append({'text':entities['text'], 'text_sha256': hashlib.sha256(entities['text'].encode('utf-8')).hexdigest()})\n",
        "    continue\n",
        "  for entity in entities['annotations']:\n",
        "    other_ids = [id for id in entity['id'] if not id.startswith(\"BERN\")]\n",
        "    entity_type = entity['obj']\n",
        "    entity_name = entities['text'][entity['span']['begin']:entity['span']['end']]\n",
        "    try:\n",
        "      entity_id = [id for id in entity['id'] if id.startswith(\"BERN\")][0]\n",
        "    except IndexError:\n",
        "      entity_id = entity_name\n",
        "    e.append({'entity_id': entity_id, 'other_ids': other_ids, 'entity_type': entity_type, 'entity': entity_name})\n",
        "  parsed_entities.append({'entities':e, 'text':entities['text'], 'text_sha256': hashlib.sha256(entities['text'].encode('utf-8')).hexdigest()})"
      ]
    },
    {
      "cell_type": "markdown",
      "metadata": {
        "id": "T2uI551Mn8X-"
      },
      "source": [
        "I've inspected the results of the named entity linking, and as expected, it is not perfect. For example, it does not identify stem cells as a medical concept. On the other hand, it detected a single entity named \"heart, brain, nerves, and kidney\". However, BERN is still the best open-source biomedical model I could find during my investigation.\n",
        "## Construct a knowledge graph\n",
        "Before looking at relation extraction techniques, we will construct a biomedical knowledge graph using only entities and examine the possible applications. As mentioned, I have prepared a Google Colab notebook that you can use to follow the code examples in this post. To store our graph, we will be using Neo4j. You don't have to deal with preparing a local Neo4j environment. Instead, you can use a free Neo4j Sandbox instance.\n",
        "\n",
        "Start the Blank project in the sandbox and copy the connection details to the Colab notebook. https://sandbox.neo4j.com/?usecase=blank-sandbox\n",
        "\n",
        "Now you can go ahead and prepare the Neo4j connection in the notebook."
      ]
    },
    {
      "cell_type": "code",
      "execution_count": 25,
      "metadata": {
        "id": "mmV_RMPBF4z6"
      },
      "outputs": [],
      "source": [
        "from neo4j import GraphDatabase\n",
        "import pandas as pd\n",
        "\n",
        "host = 'bolt://34.238.240.155:7687'\n",
        "user = 'neo4j'\n",
        "password = 'satellite-pins-cameras'\n",
        "driver = GraphDatabase.driver(host,auth=(user, password))\n",
        "\n",
        "def neo4j_query(query, params=None):\n",
        "    with driver.session() as session:\n",
        "        result = session.run(query, params)\n",
        "        return pd.DataFrame([r.values() for r in result], columns=result.keys())"
      ]
    },
    {
      "cell_type": "markdown",
      "metadata": {
        "id": "nNp94NNVoHB8"
      },
      "source": [
        "We will start by importing the author and the article into the graph. The article node will contain only the title."
      ]
    },
    {
      "cell_type": "code",
      "execution_count": 26,
      "metadata": {
        "colab": {
          "base_uri": "https://localhost:8080/",
          "height": 32
        },
        "id": "nw0XFDBSFoNk",
        "outputId": "928e48e3-43b5-4818-9f60-5dfcd24dff91"
      },
      "outputs": [
        {
          "data": {
            "text/html": [
              "<div>\n",
              "<style scoped>\n",
              "    .dataframe tbody tr th:only-of-type {\n",
              "        vertical-align: middle;\n",
              "    }\n",
              "\n",
              "    .dataframe tbody tr th {\n",
              "        vertical-align: top;\n",
              "    }\n",
              "\n",
              "    .dataframe thead th {\n",
              "        text-align: right;\n",
              "    }\n",
              "</style>\n",
              "<table border=\"1\" class=\"dataframe\">\n",
              "  <thead>\n",
              "    <tr style=\"text-align: right;\">\n",
              "      <th></th>\n",
              "    </tr>\n",
              "  </thead>\n",
              "  <tbody>\n",
              "  </tbody>\n",
              "</table>\n",
              "</div>"
            ],
            "text/plain": [
              "Empty DataFrame\n",
              "Columns: []\n",
              "Index: []"
            ]
          },
          "execution_count": 26,
          "metadata": {},
          "output_type": "execute_result"
        }
      ],
      "source": [
        "title = \"Effective drug combinations in breast, colon and pancreatic cancer cells\"\n",
        "author = \"Patricia Jaaks\"\n",
        "\n",
        "neo4j_query(\"\"\"\n",
        "MERGE (a:Author{name:$author})\n",
        "MERGE (b:Article{title:$title})\n",
        "MERGE (a)-[:WROTE]->(b)\n",
        "\"\"\", {'title':title, 'author':author})"
      ]
    },
    {
      "cell_type": "markdown",
      "metadata": {
        "id": "4IQuBOizoJ5K"
      },
      "source": [
        "You can import the sentences and mentioned entities by executing the following Cypher query:"
      ]
    },
    {
      "cell_type": "code",
      "execution_count": 27,
      "metadata": {
        "colab": {
          "base_uri": "https://localhost:8080/",
          "height": 32
        },
        "id": "Ef0HI6VEQW1R",
        "outputId": "4cc01e9a-9262-46d7-e327-3a0ded7af1b5"
      },
      "outputs": [
        {
          "data": {
            "text/html": [
              "<div>\n",
              "<style scoped>\n",
              "    .dataframe tbody tr th:only-of-type {\n",
              "        vertical-align: middle;\n",
              "    }\n",
              "\n",
              "    .dataframe tbody tr th {\n",
              "        vertical-align: top;\n",
              "    }\n",
              "\n",
              "    .dataframe thead th {\n",
              "        text-align: right;\n",
              "    }\n",
              "</style>\n",
              "<table border=\"1\" class=\"dataframe\">\n",
              "  <thead>\n",
              "    <tr style=\"text-align: right;\">\n",
              "      <th></th>\n",
              "    </tr>\n",
              "  </thead>\n",
              "  <tbody>\n",
              "  </tbody>\n",
              "</table>\n",
              "</div>"
            ],
            "text/plain": [
              "Empty DataFrame\n",
              "Columns: []\n",
              "Index: []"
            ]
          },
          "execution_count": 27,
          "metadata": {},
          "output_type": "execute_result"
        }
      ],
      "source": [
        "neo4j_query(\"\"\"\n",
        "MATCH (a:Article)\n",
        "UNWIND $data as row\n",
        "MERGE (s:Sentence{id:row.text_sha256})\n",
        "SET s.text = row.text\n",
        "MERGE (a)-[:HAS_SENTENCE]->(s)\n",
        "WITH s, row.entities as entities\n",
        "UNWIND entities as entity\n",
        "MERGE (e:Entity{id:entity.entity_id})\n",
        "ON CREATE SET e.other_ids = entity.other_ids,\n",
        "              e.name = entity.entity,\n",
        "              e.type = entity.entity_type\n",
        "MERGE (s)-[m:MENTIONS]->(e)\n",
        "ON CREATE SET m.count = 1\n",
        "ON MATCH SET m.count = m.count + 1\n",
        "\"\"\", {'data': parsed_entities})"
      ]
    },
    {
      "cell_type": "markdown",
      "metadata": {
        "id": "ZX-1delsoN2v"
      },
      "source": [
        "## Knowledge graph applications\n",
        "Even without the relation extraction flow, there are already a couple of use-cases for our graph.\n",
        "### Search engine\n",
        "We could use our graph as a search engine. For example, you could use the following Cypher query to find sentences or articles that mention a specific medical entity."
      ]
    },
    {
      "cell_type": "code",
      "execution_count": 28,
      "metadata": {
        "colab": {
          "base_uri": "https://localhost:8080/",
          "height": 80
        },
        "id": "yGE-gnuBYx-Y",
        "outputId": "f091c23d-bfe5-43e3-a2e3-28cd527710ea"
      },
      "outputs": [
        {
          "data": {
            "text/html": [
              "<div>\n",
              "<style scoped>\n",
              "    .dataframe tbody tr th:only-of-type {\n",
              "        vertical-align: middle;\n",
              "    }\n",
              "\n",
              "    .dataframe tbody tr th {\n",
              "        vertical-align: top;\n",
              "    }\n",
              "\n",
              "    .dataframe thead th {\n",
              "        text-align: right;\n",
              "    }\n",
              "</style>\n",
              "<table border=\"1\" class=\"dataframe\">\n",
              "  <thead>\n",
              "    <tr style=\"text-align: right;\">\n",
              "      <th></th>\n",
              "      <th>result</th>\n",
              "    </tr>\n",
              "  </thead>\n",
              "  <tbody>\n",
              "  </tbody>\n",
              "</table>\n",
              "</div>"
            ],
            "text/plain": [
              "Empty DataFrame\n",
              "Columns: [result]\n",
              "Index: []"
            ]
          },
          "execution_count": 28,
          "metadata": {},
          "output_type": "execute_result"
        }
      ],
      "source": [
        "neo4j_query(\"\"\"\n",
        "MATCH (e:Entity)<-[:MENTIONS]-(s:Sentence)\n",
        "WHERE e.name = \"autoimmune diseases\"\n",
        "RETURN s.text as result\n",
        "\"\"\")"
      ]
    },
    {
      "cell_type": "markdown",
      "metadata": {
        "id": "Qz-9K2eooSpW"
      },
      "source": [
        "### Co-occurrence analysis\n",
        "The second option is the co-occurrence analysis. You could define co-occurrence between medical entities if they appear in the same sentence or article. I've found an article[2] that uses the medical co-occurrence network to predict new possible connections between medical entities.\n",
        "Link prediction in a MeSH co-occurrence network: preliminary results - PubMed\n",
        "Literature-based discovery (LBD) refers to automatic discovery of implicit relations from the scientific literature.\n",
        "You could use the following Cypher query to find entities that often co-occur in the same sentence."
      ]
    },
    {
      "cell_type": "code",
      "execution_count": 35,
      "metadata": {
        "colab": {
          "base_uri": "https://localhost:8080/",
          "height": 142
        },
        "id": "wITWy7n_iTcY",
        "outputId": "c7af7d2f-de77-48fc-def0-aba90e9133c0"
      },
      "outputs": [
        {
          "data": {
            "text/html": [
              "<div>\n",
              "<style scoped>\n",
              "    .dataframe tbody tr th:only-of-type {\n",
              "        vertical-align: middle;\n",
              "    }\n",
              "\n",
              "    .dataframe tbody tr th {\n",
              "        vertical-align: top;\n",
              "    }\n",
              "\n",
              "    .dataframe thead th {\n",
              "        text-align: right;\n",
              "    }\n",
              "</style>\n",
              "<table border=\"1\" class=\"dataframe\">\n",
              "  <thead>\n",
              "    <tr style=\"text-align: right;\">\n",
              "      <th></th>\n",
              "      <th>entity1</th>\n",
              "      <th>entity2</th>\n",
              "      <th>cooccurrence</th>\n",
              "    </tr>\n",
              "  </thead>\n",
              "  <tbody>\n",
              "    <tr>\n",
              "      <th>0</th>\n",
              "      <td>MAPK</td>\n",
              "      <td>PI3K</td>\n",
              "      <td>6</td>\n",
              "    </tr>\n",
              "    <tr>\n",
              "      <th>1</th>\n",
              "      <td>KRAS</td>\n",
              "      <td>cell lines</td>\n",
              "      <td>5</td>\n",
              "    </tr>\n",
              "    <tr>\n",
              "      <th>2</th>\n",
              "      <td>MK-2206</td>\n",
              "      <td>linsitinib</td>\n",
              "      <td>5</td>\n",
              "    </tr>\n",
              "    <tr>\n",
              "      <th>3</th>\n",
              "      <td>MK-2206</td>\n",
              "      <td>AKT1/2</td>\n",
              "      <td>5</td>\n",
              "    </tr>\n",
              "    <tr>\n",
              "      <th>4</th>\n",
              "      <td>KRAS</td>\n",
              "      <td>MK-2206</td>\n",
              "      <td>5</td>\n",
              "    </tr>\n",
              "    <tr>\n",
              "      <th>5</th>\n",
              "      <td>irinotecan</td>\n",
              "      <td>CHEK1</td>\n",
              "      <td>4</td>\n",
              "    </tr>\n",
              "    <tr>\n",
              "      <th>6</th>\n",
              "      <td>KRAS</td>\n",
              "      <td>PIK3CA</td>\n",
              "      <td>4</td>\n",
              "    </tr>\n",
              "    <tr>\n",
              "      <th>7</th>\n",
              "      <td>AZD7762</td>\n",
              "      <td>CHEK1/2</td>\n",
              "      <td>4</td>\n",
              "    </tr>\n",
              "    <tr>\n",
              "      <th>8</th>\n",
              "      <td>TOP1</td>\n",
              "      <td>camptothecin</td>\n",
              "      <td>4</td>\n",
              "    </tr>\n",
              "    <tr>\n",
              "      <th>9</th>\n",
              "      <td>irinotecan</td>\n",
              "      <td>colon cancer</td>\n",
              "      <td>3</td>\n",
              "    </tr>\n",
              "  </tbody>\n",
              "</table>\n",
              "</div>"
            ],
            "text/plain": [
              "      entity1       entity2  cooccurrence\n",
              "0        MAPK          PI3K             6\n",
              "1        KRAS    cell lines             5\n",
              "2     MK-2206    linsitinib             5\n",
              "3     MK-2206        AKT1/2             5\n",
              "4        KRAS       MK-2206             5\n",
              "5  irinotecan         CHEK1             4\n",
              "6        KRAS        PIK3CA             4\n",
              "7     AZD7762       CHEK1/2             4\n",
              "8        TOP1  camptothecin             4\n",
              "9  irinotecan  colon cancer             3"
            ]
          },
          "execution_count": 35,
          "metadata": {},
          "output_type": "execute_result"
        }
      ],
      "source": [
        "neo4j_query(\"\"\"\n",
        "MATCH (e1:Entity)<-[:MENTIONS]-()-[:MENTIONS]->(e2:Entity)\n",
        "WHERE id(e1) < id(e2)\n",
        "RETURN e1.name as entity1, e2.name as entity2, count(*) as cooccurrence\n",
        "ORDER BY cooccurrence\n",
        "DESC LIMIT 10\n",
        "\"\"\")"
      ]
    },
    {
      "cell_type": "markdown",
      "metadata": {
        "id": "6xkAqw9foZvF"
      },
      "source": [
        "Obviously, the results would be better if we analyzed thousands or more articles.\n",
        "### Inspect author expertise\n",
        "You could also use this graph to find the author's expertise by examining the medical entities they most frequently write about. With this information, you could also suggest future collaborations.\n",
        "Execute the following Cypher query to inspect which medical entities our single author mentioned in the research paper."
      ]
    },
    {
      "cell_type": "code",
      "execution_count": 36,
      "metadata": {
        "colab": {
          "base_uri": "https://localhost:8080/",
          "height": 204
        },
        "id": "6Bsa7o8z0z8Q",
        "outputId": "76275848-269f-4507-94f9-6acef03ea7f3"
      },
      "outputs": [
        {
          "data": {
            "text/html": [
              "<div>\n",
              "<style scoped>\n",
              "    .dataframe tbody tr th:only-of-type {\n",
              "        vertical-align: middle;\n",
              "    }\n",
              "\n",
              "    .dataframe tbody tr th {\n",
              "        vertical-align: top;\n",
              "    }\n",
              "\n",
              "    .dataframe thead th {\n",
              "        text-align: right;\n",
              "    }\n",
              "</style>\n",
              "<table border=\"1\" class=\"dataframe\">\n",
              "  <thead>\n",
              "    <tr style=\"text-align: right;\">\n",
              "      <th></th>\n",
              "      <th>author</th>\n",
              "      <th>entity</th>\n",
              "      <th>count</th>\n",
              "    </tr>\n",
              "  </thead>\n",
              "  <tbody>\n",
              "    <tr>\n",
              "      <th>0</th>\n",
              "      <td>Patricia Jaaks</td>\n",
              "      <td>KRAS</td>\n",
              "      <td>14</td>\n",
              "    </tr>\n",
              "    <tr>\n",
              "      <th>1</th>\n",
              "      <td>Patricia Jaaks</td>\n",
              "      <td>cell lines</td>\n",
              "      <td>14</td>\n",
              "    </tr>\n",
              "    <tr>\n",
              "      <th>2</th>\n",
              "      <td>Patricia Jaaks</td>\n",
              "      <td>irinotecan</td>\n",
              "      <td>12</td>\n",
              "    </tr>\n",
              "    <tr>\n",
              "      <th>3</th>\n",
              "      <td>Patricia Jaaks</td>\n",
              "      <td>cancer</td>\n",
              "      <td>11</td>\n",
              "    </tr>\n",
              "    <tr>\n",
              "      <th>4</th>\n",
              "      <td>Patricia Jaaks</td>\n",
              "      <td>navitoclax</td>\n",
              "      <td>11</td>\n",
              "    </tr>\n",
              "    <tr>\n",
              "      <th>5</th>\n",
              "      <td>Patricia Jaaks</td>\n",
              "      <td>PI3K</td>\n",
              "      <td>9</td>\n",
              "    </tr>\n",
              "    <tr>\n",
              "      <th>6</th>\n",
              "      <td>Patricia Jaaks</td>\n",
              "      <td>CHEK1</td>\n",
              "      <td>9</td>\n",
              "    </tr>\n",
              "    <tr>\n",
              "      <th>7</th>\n",
              "      <td>Patricia Jaaks</td>\n",
              "      <td>MK-2206</td>\n",
              "      <td>9</td>\n",
              "    </tr>\n",
              "    <tr>\n",
              "      <th>8</th>\n",
              "      <td>Patricia Jaaks</td>\n",
              "      <td>MAPK</td>\n",
              "      <td>8</td>\n",
              "    </tr>\n",
              "    <tr>\n",
              "      <th>9</th>\n",
              "      <td>Patricia Jaaks</td>\n",
              "      <td>rabusertib</td>\n",
              "      <td>7</td>\n",
              "    </tr>\n",
              "  </tbody>\n",
              "</table>\n",
              "</div>"
            ],
            "text/plain": [
              "           author      entity  count\n",
              "0  Patricia Jaaks        KRAS     14\n",
              "1  Patricia Jaaks  cell lines     14\n",
              "2  Patricia Jaaks  irinotecan     12\n",
              "3  Patricia Jaaks      cancer     11\n",
              "4  Patricia Jaaks  navitoclax     11\n",
              "5  Patricia Jaaks        PI3K      9\n",
              "6  Patricia Jaaks       CHEK1      9\n",
              "7  Patricia Jaaks     MK-2206      9\n",
              "8  Patricia Jaaks        MAPK      8\n",
              "9  Patricia Jaaks  rabusertib      7"
            ]
          },
          "execution_count": 36,
          "metadata": {},
          "output_type": "execute_result"
        }
      ],
      "source": [
        "neo4j_query(\"\"\"\n",
        "MATCH (a:Author)-[:WROTE]->()-[:HAS_SENTENCE]->()-[:MENTIONS]->(e:Entity)\n",
        "RETURN a.name as author, e.name as entity, count(*) as count\n",
        "ORDER BY count DESC\n",
        "LIMIT 10\n",
        "\"\"\")"
      ]
    },
    {
      "cell_type": "markdown",
      "metadata": {
        "id": "DC-q2-WKodFt"
      },
      "source": [
        "## Relation extraction\n",
        "Now we will try to extract relations between medical concepts. From my experience, the relation extraction is at least an order of magnitude harder than named entity extraction. If you shouldn't expect perfect results with named entity linking, then you can definitely expect some mistakes with the relation extraction technique.\n",
        "\n",
        "I've been looking for available biomedical relation extraction models but found nothing that works out of the box or doesn't require fine-tuning. It seems that the field of relation extraction is at the cutting edge, and hopefully, we'll see more attention about it in the future. Unfortunately, I'm not an NLP expert, so I avoided fine-tuning my own model. Instead, we will be using the zero-shot relation extractor based on the paper Exploring the zero-shot limit of FewRel[3]. While I wouldn't recommend to put this model into production, it is good enough for a simple demonstration. The model is available on HuggingFace, so we don't have to deal with training or setting up the model."
      ]
    },
    {
      "cell_type": "code",
      "execution_count": 31,
      "metadata": {
        "colab": {
          "base_uri": "https://localhost:8080/"
        },
        "id": "-rSodX2-jF2q",
        "outputId": "349b0903-93b8-4a55-a941-9a52d2005c93"
      },
      "outputs": [
        {
          "name": "stderr",
          "output_type": "stream",
          "text": [
            "c:\\Users\\User\\Documents\\GitHub\\biomedical-knowledge-graph-nlp\\.venv\\lib\\site-packages\\tqdm\\auto.py:21: TqdmWarning: IProgress not found. Please update jupyter and ipywidgets. See https://ipywidgets.readthedocs.io/en/stable/user_install.html\n",
            "  from .autonotebook import tqdm as notebook_tqdm\n",
            "Some weights of the model checkpoint at bert-large-uncased-whole-word-masking-finetuned-squad were not used when initializing BertModel: ['qa_outputs.weight', 'qa_outputs.bias']\n",
            "- This IS expected if you are initializing BertModel from the checkpoint of a model trained on another task or with another architecture (e.g. initializing a BertForSequenceClassification model from a BertForPreTraining model).\n",
            "- This IS NOT expected if you are initializing BertModel from the checkpoint of a model that you expect to be exactly identical (initializing a BertForSequenceClassification model from a BertForSequenceClassification model).\n"
          ]
        }
      ],
      "source": [
        "from transformers import AutoTokenizer\n",
        "from zero_shot_re import RelTaggerModel, RelationExtractor\n",
        "\n",
        "model = RelTaggerModel.from_pretrained(\"fractalego/fewrel-zero-shot\")\n",
        "tokenizer = AutoTokenizer.from_pretrained(\"bert-large-uncased-whole-word-masking-finetuned-squad\")\n",
        "relations = ['associated', 'interacts']\n",
        "extractor = RelationExtractor(model, tokenizer, relations)"
      ]
    },
    {
      "cell_type": "markdown",
      "metadata": {
        "id": "wyJuh8Yjogy6"
      },
      "source": [
        "With the zero-shot relation extractor, you can define which relations you would like to detect. In this example, I've used the associated and interacts relationships. I've also tried more specific relationship types such as treats, causes, and others, but the results were not great.\n",
        "\n",
        "With this model, you have to define between which pairs of entities you would like to detect relationships. We will use the results of the named entity linking as an input to the relation extraction process. First, we find all the sentences where two or more entities are mentioned and then run them through the relation extraction model to extract any connections. I've also defined a threshold value of 0.85, meaning that if a model predicts a link between entities with a probability lower than 0.85, we'll ignore the prediction."
      ]
    },
    {
      "cell_type": "code",
      "execution_count": 32,
      "metadata": {
        "id": "YZeYC8HNjaPG"
      },
      "outputs": [
        {
          "data": {
            "text/html": [
              "<div>\n",
              "<style scoped>\n",
              "    .dataframe tbody tr th:only-of-type {\n",
              "        vertical-align: middle;\n",
              "    }\n",
              "\n",
              "    .dataframe tbody tr th {\n",
              "        vertical-align: top;\n",
              "    }\n",
              "\n",
              "    .dataframe thead th {\n",
              "        text-align: right;\n",
              "    }\n",
              "</style>\n",
              "<table border=\"1\" class=\"dataframe\">\n",
              "  <thead>\n",
              "    <tr style=\"text-align: right;\">\n",
              "      <th></th>\n",
              "    </tr>\n",
              "  </thead>\n",
              "  <tbody>\n",
              "  </tbody>\n",
              "</table>\n",
              "</div>"
            ],
            "text/plain": [
              "Empty DataFrame\n",
              "Columns: []\n",
              "Index: []"
            ]
          },
          "execution_count": 32,
          "metadata": {},
          "output_type": "execute_result"
        }
      ],
      "source": [
        "import itertools\n",
        "# Candidate sentence where there is more than a single entity present\n",
        "candidates = [s for s in parsed_entities if (s.get('entities')) and (len(s['entities']) > 1)]\n",
        "predicted_rels = []\n",
        "for c in candidates:\n",
        "  combinations = itertools.combinations([{'name':x['entity'], 'id':x['entity_id']} for x in c['entities']], 2)\n",
        "  for combination in list(combinations):\n",
        "    try:\n",
        "      ranked_rels = extractor.rank(text=c['text'].replace(\",\", \" \"), head=combination[0]['name'], tail=combination[1]['name'])\n",
        "      # Define threshold for the most probable relation\n",
        "      if ranked_rels[0][1] > 0.85:\n",
        "        predicted_rels.append({'head': combination[0]['id'], 'tail': combination[1]['id'], 'type':ranked_rels[0][0], 'source': c['text_sha256']})\n",
        "    except:\n",
        "      pass\n",
        "\n",
        "neo4j_query(\"\"\"\n",
        "UNWIND $data as row\n",
        "MATCH (source:Entity {id: row.head})\n",
        "MATCH (target:Entity {id: row.tail})\n",
        "MATCH (text:Sentence {id: row.source})\n",
        "MERGE (source)-[:REL]->(r:Relation {type: row.type})-[:REL]->(target)\n",
        "MERGE (text)-[:MENTIONS]->(r)\n",
        "\"\"\", {'data': predicted_rels})"
      ]
    },
    {
      "cell_type": "markdown",
      "metadata": {
        "id": "FubQf_MHokOE"
      },
      "source": [
        "You can examine the extracted relationships between entities and the source text with the following Cypher query:"
      ]
    },
    {
      "cell_type": "code",
      "execution_count": 33,
      "metadata": {
        "colab": {
          "base_uri": "https://localhost:8080/",
          "height": 173
        },
        "id": "f5wD_PChuCcc",
        "outputId": "954f094d-47b9-4124-beab-fbf189bfdc03"
      },
      "outputs": [
        {
          "data": {
            "text/html": [
              "<div>\n",
              "<style scoped>\n",
              "    .dataframe tbody tr th:only-of-type {\n",
              "        vertical-align: middle;\n",
              "    }\n",
              "\n",
              "    .dataframe tbody tr th {\n",
              "        vertical-align: top;\n",
              "    }\n",
              "\n",
              "    .dataframe thead th {\n",
              "        text-align: right;\n",
              "    }\n",
              "</style>\n",
              "<table border=\"1\" class=\"dataframe\">\n",
              "  <thead>\n",
              "    <tr style=\"text-align: right;\">\n",
              "      <th></th>\n",
              "      <th>source_entity</th>\n",
              "      <th>target_entity</th>\n",
              "      <th>type</th>\n",
              "      <th>source_text</th>\n",
              "    </tr>\n",
              "  </thead>\n",
              "  <tbody>\n",
              "    <tr>\n",
              "      <th>0</th>\n",
              "      <td>irinotecan</td>\n",
              "      <td>CHEK1</td>\n",
              "      <td>interacts</td>\n",
              "      <td>Combining SN-38, the active metabolite of the ...</td>\n",
              "    </tr>\n",
              "    <tr>\n",
              "      <th>1</th>\n",
              "      <td>irinotecan</td>\n",
              "      <td>CHEK1</td>\n",
              "      <td>interacts</td>\n",
              "      <td>Our results show that irinotecan and CHEK1 inh...</td>\n",
              "    </tr>\n",
              "    <tr>\n",
              "      <th>2</th>\n",
              "      <td>irinotecan</td>\n",
              "      <td>CHEK1</td>\n",
              "      <td>interacts</td>\n",
              "      <td>Camptothecin is an analogue of the standard-of...</td>\n",
              "    </tr>\n",
              "    <tr>\n",
              "      <th>3</th>\n",
              "      <td>irinotecan</td>\n",
              "      <td>colon cancer</td>\n",
              "      <td>associated</td>\n",
              "      <td>Our results show that irinotecan and CHEK1 inh...</td>\n",
              "    </tr>\n",
              "    <tr>\n",
              "      <th>4</th>\n",
              "      <td>irinotecan</td>\n",
              "      <td>colon cancer</td>\n",
              "      <td>associated</td>\n",
              "      <td>g, Rabusertib increases irinotecan response in...</td>\n",
              "    </tr>\n",
              "    <tr>\n",
              "      <th>...</th>\n",
              "      <td>...</td>\n",
              "      <td>...</td>\n",
              "      <td>...</td>\n",
              "      <td>...</td>\n",
              "    </tr>\n",
              "    <tr>\n",
              "      <th>230</th>\n",
              "      <td>irinotecan</td>\n",
              "      <td>CHEK2</td>\n",
              "      <td>interacts</td>\n",
              "      <td>Combining SN-38, the active metabolite of the ...</td>\n",
              "    </tr>\n",
              "    <tr>\n",
              "      <th>231</th>\n",
              "      <td>small interfering RNA</td>\n",
              "      <td>CHEK1</td>\n",
              "      <td>interacts</td>\n",
              "      <td>Combining SN-38, the active metabolite of the ...</td>\n",
              "    </tr>\n",
              "    <tr>\n",
              "      <th>232</th>\n",
              "      <td>small interfering RNA</td>\n",
              "      <td>CHEK2</td>\n",
              "      <td>interacts</td>\n",
              "      <td>Combining SN-38, the active metabolite of the ...</td>\n",
              "    </tr>\n",
              "    <tr>\n",
              "      <th>233</th>\n",
              "      <td>CHEK1</td>\n",
              "      <td>CHEK2</td>\n",
              "      <td>interacts</td>\n",
              "      <td>Combining SN-38, the active metabolite of the ...</td>\n",
              "    </tr>\n",
              "    <tr>\n",
              "      <th>234</th>\n",
              "      <td>TOP1i</td>\n",
              "      <td>CHEKi</td>\n",
              "      <td>interacts</td>\n",
              "      <td>Our results indicate that combination effects ...</td>\n",
              "    </tr>\n",
              "  </tbody>\n",
              "</table>\n",
              "<p>235 rows × 4 columns</p>\n",
              "</div>"
            ],
            "text/plain": [
              "             source_entity target_entity        type  \\\n",
              "0               irinotecan         CHEK1   interacts   \n",
              "1               irinotecan         CHEK1   interacts   \n",
              "2               irinotecan         CHEK1   interacts   \n",
              "3               irinotecan  colon cancer  associated   \n",
              "4               irinotecan  colon cancer  associated   \n",
              "..                     ...           ...         ...   \n",
              "230             irinotecan         CHEK2   interacts   \n",
              "231  small interfering RNA         CHEK1   interacts   \n",
              "232  small interfering RNA         CHEK2   interacts   \n",
              "233                  CHEK1         CHEK2   interacts   \n",
              "234                  TOP1i         CHEKi   interacts   \n",
              "\n",
              "                                           source_text  \n",
              "0    Combining SN-38, the active metabolite of the ...  \n",
              "1    Our results show that irinotecan and CHEK1 inh...  \n",
              "2    Camptothecin is an analogue of the standard-of...  \n",
              "3    Our results show that irinotecan and CHEK1 inh...  \n",
              "4    g, Rabusertib increases irinotecan response in...  \n",
              "..                                                 ...  \n",
              "230  Combining SN-38, the active metabolite of the ...  \n",
              "231  Combining SN-38, the active metabolite of the ...  \n",
              "232  Combining SN-38, the active metabolite of the ...  \n",
              "233  Combining SN-38, the active metabolite of the ...  \n",
              "234  Our results indicate that combination effects ...  \n",
              "\n",
              "[235 rows x 4 columns]"
            ]
          },
          "execution_count": 33,
          "metadata": {},
          "output_type": "execute_result"
        }
      ],
      "source": [
        "neo4j_query(\"\"\"\n",
        "MATCH (s:Entity)-[:REL]->(r:Relation)-[:REL]->(t:Entity), (r)<-[:MENTIONS]-(st:Sentence)\n",
        "RETURN s.name as source_entity, t.name as target_entity, r.type as type, st.text as source_text\n",
        "\"\"\")"
      ]
    },
    {
      "cell_type": "markdown",
      "metadata": {
        "id": "IzUK-b-CoqYm"
      },
      "source": [
        "As mentioned, the NLP model I've used to extract relations is not perfect, and since I am not a medical doctor, I don't know how many connections it missed. However, the ones it detected seem reasonable.\n",
        "## External database enrichment\n",
        "As I mentioned before, we can still use the external databases like CHEBI or MESH to enrich our graph. For example, our graph contains a medical entity Epidermolysis bullosa and we also know its MeSH id.\n",
        "\n",
        "The Cypher query to fetch the information from MeSH REST endpoint is:"
      ]
    },
    {
      "cell_type": "code",
      "execution_count": 34,
      "metadata": {
        "colab": {
          "base_uri": "https://localhost:8080/",
          "height": 80
        },
        "id": "I-gbM4r30odL",
        "outputId": "5832a35b-792d-49d3-cbff-4eef56c2d4ba"
      },
      "outputs": [
        {
          "data": {
            "text/html": [
              "<div>\n",
              "<style scoped>\n",
              "    .dataframe tbody tr th:only-of-type {\n",
              "        vertical-align: middle;\n",
              "    }\n",
              "\n",
              "    .dataframe tbody tr th {\n",
              "        vertical-align: top;\n",
              "    }\n",
              "\n",
              "    .dataframe thead th {\n",
              "        text-align: right;\n",
              "    }\n",
              "</style>\n",
              "<table border=\"1\" class=\"dataframe\">\n",
              "  <thead>\n",
              "    <tr style=\"text-align: right;\">\n",
              "      <th></th>\n",
              "      <th>value</th>\n",
              "    </tr>\n",
              "  </thead>\n",
              "  <tbody>\n",
              "  </tbody>\n",
              "</table>\n",
              "</div>"
            ],
            "text/plain": [
              "Empty DataFrame\n",
              "Columns: [value]\n",
              "Index: []"
            ]
          },
          "execution_count": 34,
          "metadata": {},
          "output_type": "execute_result"
        }
      ],
      "source": [
        "# mesh enrichment\n",
        "neo4j_query(\"\"\"\n",
        "MATCH (e:Entity)\n",
        "WHERE e.name = \"Epidermolysis bullosa\"\n",
        "WITH e,\n",
        "    [id in e.other_ids WHERE id contains \"MESH\" | split(id,\":\")[1]][0] as meshId\n",
        "CALL apoc.load.json(\"https://id.nlm.nih.gov/mesh/lookup/details?descriptor=\" + meshId) YIELD value\n",
        "RETURN value\n",
        "\"\"\")"
      ]
    },
    {
      "cell_type": "markdown",
      "metadata": {
        "id": "z4ksXgoXoyXd"
      },
      "source": [
        "## Knowledge graph as machine learning data input\n",
        "As a final thought, I will quickly walk you through how you could use the biomedical knowledge graph as an input to a machine learning workflow. In recent years, there has been a lot of research and advancement in the node embedding field. Node embedding models translate the network topology into embedding space.\n",
        "\n",
        "Suppose you constructed a biomedical knowledge graph containing medical entities and concepts, their relations, and enrichment from various medical databases. You could use node embedding techniques to learn the node representations, which are fixed-length vectors, and input them into your machine learning workflow. Various applications are using this approach ranging from drug repurposing to drug side or adverse effect predictions. I've found a research paper that uses link prediction for potential treatments of new diseases[4].\n",
        "## Conclusion\n",
        "The biomedical domain is a prime example where knowledge graphs are applicable. There are many applications ranging from simple search engines to more complicated machine learning workflows. Hopefully, by reading this blog post, you came up with some ideas on how you could use biomedical knowledge graphs to support your applications."
      ]
    }
  ],
  "metadata": {
    "colab": {
      "authorship_tag": "ABX9TyOWRo9NkSzJ97eMsEiSbaKr",
      "include_colab_link": true,
      "name": "bioNLP2graph.ipynb",
      "provenance": []
    },
    "kernelspec": {
      "display_name": "Python 3",
      "name": "python3"
    },
    "language_info": {
      "codemirror_mode": {
        "name": "ipython",
        "version": 3
      },
      "file_extension": ".py",
      "mimetype": "text/x-python",
      "name": "python",
      "nbconvert_exporter": "python",
      "pygments_lexer": "ipython3",
      "version": "3.8.0"
    }
  },
  "nbformat": 4,
  "nbformat_minor": 0
}
